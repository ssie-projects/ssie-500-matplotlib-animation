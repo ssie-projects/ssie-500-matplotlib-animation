{
 "cells": [
  {
   "cell_type": "markdown",
   "metadata": {},
   "source": [
    "# Animation with Matplotlib\n",
    "**SSIE 500 - Intro to Computational Tools, Fall 2020**\n",
    "\n",
    "**Professor Hiroki Sayama**\n",
    "\n",
    "For systems scientists who want to visualize changing variables over time, animated visualizations provide the powerful ability to see the underlying dynamics of a process. However, most plotting solutions only offer a static image - the final result. This doesn't allow the scientist to observe how a process unfolded and changed over time. Luckily the `matplotlib.animate` package provides the ability to create animations with a few simple parameters, making it easier to gain insight into a changing system.\n",
    "\n",
    "## Clone, fork, or copy our code from Github\n",
    "\n",
    "### **Visit**: [https://github.com/ssie-projects/ssie-500-matplotlib-animation](https://github.com/ssie-projects/ssie-500-matplotlib-animation)\n",
    "\n",
    "## Project Team\n",
    "* Roman Kostner\n",
    "* Duxiao Hao\n",
    "* Christian Lemp\n",
    "\n",
    "## References\n",
    "\n",
    "* [Animations with Matplotlib - Parul Pandey](https://towardsdatascience.com/animations-with-matplotlib-d96375c5442c)\n",
    "* https://mathworld.wolfram.com/ParametricEquations.html\n",
    "* https://stackoverflow.com/a/51528612\n",
    "* https://matplotlib.org/api/_as_gen/matplotlib.animation.FuncAnimation.html#matplotlib-animation-funcanimation\n",
    "* https://alexgude.com/blog/matplotlib-blitting-supernova/\n"
   ]
  },
  {
   "cell_type": "markdown",
   "metadata": {},
   "source": [
    "# Step 1: Environment and Notebook"
   ]
  },
  {
   "cell_type": "markdown",
   "metadata": {},
   "source": [
    "## Import Python packages\n",
    "\n",
    "`animation` is a function within matplotlib..."
   ]
  },
  {
   "cell_type": "code",
   "execution_count": null,
   "metadata": {},
   "outputs": [],
   "source": [
    "import numpy as np\n",
    "from matplotlib import pyplot as plt\n",
    "from matplotlib.animation import FuncAnimation\n",
    "\n",
    "# to display static plots in the notebook\n",
    "%matplotlib inline\n",
    "\n",
    "plt.style.use('seaborn-pastel')"
   ]
  },
  {
   "cell_type": "markdown",
   "metadata": {},
   "source": [
    "# Step 2: Setting up"
   ]
  },
  {
   "cell_type": "markdown",
   "metadata": {},
   "source": [
    "## Configure analysis"
   ]
  },
  {
   "cell_type": "code",
   "execution_count": null,
   "metadata": {},
   "outputs": [],
   "source": [
    "# Height and width of canvas\n",
    "maze_height = 50\n",
    "maze_width = 50\n",
    "# Density of the maze\n",
    "pct_maze_fill = 0.20\n",
    "\n",
    "print(\"Num. of squares in canvas:\", maze_height * maze_width)\n",
    "print(\"Num. of wall squares:\", int(pct_maze_fill * maze_height * maze_width))"
   ]
  },
  {
   "cell_type": "markdown",
   "metadata": {},
   "source": [
    "## Generate maze data\n",
    "\n",
    "In this step we will generate the data used to create \"walls\" of the maze. Unlike our example in class that relied on `matplotlib.plt.imgshow` function to display the canvas, we will instead use this data to draw create a static plot on our animated maze in a later step.\n",
    "\n",
    "\n",
    "Need to create an empty working canvas, and the `line,` variable - a special `matplotlib` object that we will fill with data for the animation."
   ]
  },
  {
   "cell_type": "code",
   "execution_count": null,
   "metadata": {},
   "outputs": [],
   "source": [
    "# Initialize maze\n",
    "maze = np.zeros([maze_height, maze_width])\n",
    "\n",
    "# Fill in maze outer walls\n",
    "for i in range(50):\n",
    "    maze[i, 0] = 1\n",
    "    maze[i, 49] = 1\n",
    "    maze[0, i] = 1\n",
    "    maze[49, i] = 1\n",
    "\n",
    "# Fill in maze inner walls\n",
    "for i in range(int(pct_maze_fill * maze_height * maze_width)):\n",
    "    # assign x, y randomly over each iteration\n",
    "    x = np.random.randint(1, 49)\n",
    "    y = np.random.randint(1, 49)\n",
    "    \n",
    "    # if 1 or fewer NSEW blocks around x,y are filled in, fill x,y\n",
    "    if maze[x-1,y] + maze[x+1,y] + maze[x,y+1] + maze[x,y-1] <= 1:     \n",
    "        maze[x,y] = 1\n",
    "        \n",
    "# Plot the maze\n",
    "print(\"Preview of random maze\")\n",
    "plt.imshow(maze, cmap=\"binary\")"
   ]
  },
  {
   "cell_type": "code",
   "execution_count": null,
   "metadata": {},
   "outputs": [],
   "source": [
    "# Need to convert `maze` binary matrix into True/False\n",
    "# and list coordinates to fill in.\n",
    "# np.argwhere(maze.astype(bool)).tolist()\n",
    "# maze.astype(bool)"
   ]
  },
  {
   "cell_type": "markdown",
   "metadata": {},
   "source": [
    "# Step 3: Setting up the static canvas"
   ]
  },
  {
   "cell_type": "markdown",
   "metadata": {},
   "source": [
    "### Draw the static background\n",
    "Need to create an empty working canvas, and the `line,` variable - a special `matplotlib` object that we will fill with data for the animation."
   ]
  },
  {
   "cell_type": "code",
   "execution_count": null,
   "metadata": {},
   "outputs": [],
   "source": [
    "# # Create an empty canvas,then set its dimensions\n",
    "fig = plt.figure()\n",
    "ax = plt.axes(xlim=(0,maze_width), ylim=(0,maze_height))\n",
    "# # Then create an empty line object\n",
    "line, = ax.plot([], [], lw=3)\n",
    "# # The line object will be populated with data later."
   ]
  },
  {
   "cell_type": "markdown",
   "metadata": {},
   "source": [
    "## Create the `init` function\n",
    "Draw the background of the animation. The `init()` function returns an iterable of `artists` to be updated upon each iteration.\n",
    "\n",
    "This example builds upon [link](https://alexgude.com/blog/matplotlib-blitting-supernova/)."
   ]
  },
  {
   "cell_type": "code",
   "execution_count": null,
   "metadata": {},
   "outputs": [],
   "source": [
    "# SSIE500\n",
    "def init():\n",
    "    \"\"\"\n",
    "    Initialize matplotlib figure. Used to draw first \n",
    "    frame of your animation.\n",
    "    \"\"\"\n",
    "    # Create an empty canvas,then set its dimensions\n",
    "#     fig = plt.figure()\n",
    "#     ax = plt.axes(xlim=(0,maze_width), ylim=(0,maze_height))\n",
    "    # Then create an empty line object\n",
    "#     line, = ax.plot([], [], lw=3)\n",
    "    \n",
    "    # The line object will be populated with data later.\n",
    "    # Set the axis and plot titles\n",
    "    ax.set_title(\"SSIE500 - Matplotlib Animation\")\n",
    "    \n",
    "    # Fill in the maze.\n",
    "    maze_coords = np.argwhere(maze.astype(bool)).tolist()\n",
    "    ax.scatter(*zip(*maze_coords), cmap=\"binary\", marker=\"s\", c=\"black\")\n",
    "    \n",
    "    # Initialize an empty `path`\n",
    "    line.set_data([],[])\n",
    "    return line,"
   ]
  },
  {
   "cell_type": "code",
   "execution_count": null,
   "metadata": {},
   "outputs": [],
   "source": [
    "# np.argwhere(maze.astype(bool)).tolist()"
   ]
  },
  {
   "cell_type": "code",
   "execution_count": null,
   "metadata": {},
   "outputs": [],
   "source": [
    "# np.argwhere(maze.astype(bool)).tolist()"
   ]
  },
  {
   "cell_type": "markdown",
   "metadata": {},
   "source": [
    "# Step 4: Generating data and setting up animation"
   ]
  },
  {
   "cell_type": "markdown",
   "metadata": {},
   "source": [
    "## Run maze algorithm and fill `path` list"
   ]
  },
  {
   "cell_type": "code",
   "execution_count": null,
   "metadata": {},
   "outputs": [],
   "source": [
    "x, y = 1, 1\n",
    "target = (40, 40)\n",
    "path = [(x, y)]\n",
    "print(\"path start:\", path)\n",
    "while (x, y) != target:\n",
    "    next_locations = [(x+dx, y+dy) for dx, dy\n",
    "                    in [(-1,0),(1,0),(0,-1),(0,1)]\n",
    "                    if maze[x+dx, y+dy]==0]\n",
    "    j = np.random.randint(len(next_locations))\n",
    "    x, y = next_locations[j]\n",
    "    \n",
    "    # reduce redundancy by only including new locations not \n",
    "    # already in the path\n",
    "    if (x, y) not in path:\n",
    "        path.append((x, y))\n",
    "    else:\n",
    "#         # if the path was visited, trim all locations since it was visited the first time\n",
    "        k = path.index((x, y)) # find which step this location was visited\n",
    "        path = path[:k+1]\n",
    "print(\"---\")\n",
    "print(\"finished. (x,y) =\",(x, y))\n",
    "print(\"number of steps:\", len(path))"
   ]
  },
  {
   "cell_type": "markdown",
   "metadata": {},
   "source": [
    "## Create the `animate` function\n",
    "\n",
    "This is a function that will iterate when called in the next step from `matplotlib.animation.FuncAnimation`. It takes an iterator variable as an argument, which will start at `0` and increment by `1` each step until the number of frames is reached (also set in the `FuncAnimation` step)."
   ]
  },
  {
   "cell_type": "code",
   "execution_count": null,
   "metadata": {},
   "outputs": [],
   "source": [
    "# Design visualization\n",
    "def animate(i):\n",
    "    # Add data to the line\n",
    "    # About the data structure:\n",
    "    # ax.plot() is stored in a variable named line above.\n",
    "    # Initialized as ax.plot([], [], lw=3)\n",
    "    # Each \"i\" update in the simulation will change x, y\n",
    "    # And the line will animate.\n",
    "    x = [x for (x,y) in path[:i]]\n",
    "    y = [y for (x,y) in path[:i]]\n",
    "#     print(\"x:\", x, \" y:\", y)\n",
    "    line.set_data(x, y)\n",
    "    return line,"
   ]
  },
  {
   "cell_type": "markdown",
   "metadata": {},
   "source": [
    "To understand what is happening, let's look more closely at the `x` and `y` values that are assigned and passed to `line.set_data()` each step"
   ]
  },
  {
   "cell_type": "code",
   "execution_count": null,
   "metadata": {},
   "outputs": [],
   "source": [
    "print(\"*** Preview of path variable ***\")\n",
    "print(\"Number of steps in solution path:\", len(path))\n",
    "print(\"First 5 steps:\", path[:5])\n",
    "print(\"\\n\")\n",
    "print(\"** Preview of x, y over 4 increments **\")\n",
    "\n",
    "for i in range(4):\n",
    "    print(\"Step\", i, \" i=\", i)\n",
    "    print(\"x=\", [x for (x,y) in path[:i]])\n",
    "    print(\"y=\", [y for (x,y) in path[:i]])\n",
    "    "
   ]
  },
  {
   "cell_type": "markdown",
   "metadata": {},
   "source": [
    "as we can see above, each increment will add one `(x, y)` value to the `line,` variable - which is used to draw the path. This incremental list of `(x, y)` values is what creates the animation."
   ]
  },
  {
   "cell_type": "markdown",
   "metadata": {},
   "source": [
    "### Putting everything together with `FuncAnimation`\n",
    "\n",
    "Parameters to include:\n",
    "\n",
    "* `fig`: this is the `plt.figure()` object\n",
    "* `func`: this is the function that manages iterations (`animate`)\n",
    "* `init_func`: our `init` function.\n",
    "* `frame`: the number of iterations to complete\n",
    "* `interval`: the number of milliseconds to delay between iterations\n",
    "* `blit`: toggle for \"blitting\" - a setting that can improve animation quality\n",
    "\n",
    "Here is official documentation for [`FuncAnimation`](https://matplotlib.org/3.3.2/api/_as_gen/matplotlib.animation.FuncAnimation.html)"
   ]
  },
  {
   "cell_type": "code",
   "execution_count": null,
   "metadata": {},
   "outputs": [],
   "source": [
    "# frames = set to the length of the number of iterations.\n",
    "anim = FuncAnimation(fig, \n",
    "                     animate, \n",
    "                     init_func=init,\n",
    "                     frames=len(path), \n",
    "                     interval=60, \n",
    "                     blit=True)"
   ]
  },
  {
   "cell_type": "markdown",
   "metadata": {},
   "source": [
    "# Visualize the result"
   ]
  },
  {
   "cell_type": "markdown",
   "metadata": {},
   "source": [
    "## Option 1: View in Jupyter notebook"
   ]
  },
  {
   "cell_type": "code",
   "execution_count": null,
   "metadata": {},
   "outputs": [],
   "source": [
    "from IPython.display import HTML\n",
    "HTML(anim.to_jshtml())"
   ]
  },
  {
   "cell_type": "markdown",
   "metadata": {},
   "source": [
    "## Option 2: Save an animated gif file"
   ]
  },
  {
   "cell_type": "code",
   "execution_count": null,
   "metadata": {},
   "outputs": [],
   "source": [
    "anim.save('maze.gif',writer='imagemagick') "
   ]
  },
  {
   "cell_type": "code",
   "execution_count": null,
   "metadata": {},
   "outputs": [],
   "source": [
    "print(output)\n",
    "\n",
    "plt.imshow(output.T, cmap = \"hot\")\n",
    "plt.axis(\"off\")\n",
    "plt.show()\n",
    "    \n",
    "mandelbrot(1000,1000,150)"
   ]
  },
  {
   "cell_type": "code",
   "execution_count": null,
   "metadata": {},
   "outputs": [],
   "source": []
  },
  {
   "cell_type": "markdown",
   "metadata": {},
   "source": [
    "# Display animation"
   ]
  },
  {
   "cell_type": "markdown",
   "metadata": {},
   "source": [
    "<!-- ![ChessUrl](https://upload.wikimedia.org/wikipedia/commons/7/71/ChessPawnSpecialMoves.gif \"chess -->\n",
    "![Play the moments](maze.gif \"sin\")"
   ]
  },
  {
   "cell_type": "markdown",
   "metadata": {},
   "source": [
    "# Other animation examples"
   ]
  },
  {
   "cell_type": "code",
   "execution_count": null,
   "metadata": {},
   "outputs": [],
   "source": []
  }
 ],
 "metadata": {
  "kernelspec": {
   "display_name": "cmplxty",
   "language": "python",
   "name": "cmplxty"
  },
  "language_info": {
   "codemirror_mode": {
    "name": "ipython",
    "version": 3
   },
   "file_extension": ".py",
   "mimetype": "text/x-python",
   "name": "python",
   "nbconvert_exporter": "python",
   "pygments_lexer": "ipython3",
   "version": "3.8.0"
  }
 },
 "nbformat": 4,
 "nbformat_minor": 4
}
